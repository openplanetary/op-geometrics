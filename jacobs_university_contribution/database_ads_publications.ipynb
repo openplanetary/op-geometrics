{
 "cells": [
  {
   "cell_type": "code",
   "execution_count": null,
   "metadata": {
    "collapsed": true
   },
   "outputs": [],
   "source": [
    "import ads\n",
    "import json\n",
    "import requests\n",
    "import re\n",
    "import io\n",
    "from feature_class import Feature"
   ]
  },
  {
   "cell_type": "code",
   "execution_count": null,
   "metadata": {
    "collapsed": true
   },
   "outputs": [],
   "source": [
    "def feature_extract(obj):\n",
    "        if '__type__' in obj and obj['__type__'] == 'Feature':\n",
    "            return Feature(obj['name'], obj['id'], obj['polygon_coordinates'], obj['publications'])\n",
    "        return Feature(\"None\", 0, \"None\", \"None\")"
   ]
  },
  {
   "cell_type": "code",
   "execution_count": null,
   "metadata": {
    "collapsed": true
   },
   "outputs": [],
   "source": [
    "def parse_json_stream(text):\n",
    "    list_idx = [m.start() for m in re.finditer('}\\n', text)]\n",
    "    list_objs = []\n",
    "    last_index = 0\n",
    "    for index in list_idx:\n",
    "        new_feature = json.loads(text[last_index:index+2], object_hook=feature_extract)\n",
    "        if (new_feature.name == \"None\"):\n",
    "            break\n",
    "        list_objs += [new_feature]\n",
    "        last_index = index+2\n",
    "    return list_objs"
   ]
  },
  {
   "cell_type": "code",
   "execution_count": null,
   "metadata": {
    "collapsed": true
   },
   "outputs": [],
   "source": [
    "json_name = \"features.json\"\n",
    "features = []"
   ]
  },
  {
   "cell_type": "code",
   "execution_count": null,
   "metadata": {
    "collapsed": true
   },
   "outputs": [],
   "source": [
    "with open(json_name) as fin:\n",
    "    features = parse_json_stream(fin.read())"
   ]
  },
  {
   "cell_type": "code",
   "execution_count": null,
   "metadata": {},
   "outputs": [],
   "source": [
    "with io.open('features_extended.json', 'w', encoding='utf-8') as fout:\n",
    "    for feature in features:\n",
    "        print(feature.name)\n",
    "        try:\n",
    "            papers = list(ads.SearchQuery(q=feature.name, sort=\"year\", fl=['title', 'first_author', 'year', 'pub', 'bibcode']))\n",
    "        except (ads.exceptions.APIResponseError, ads.exceptions.SolrResponseParseError) as e:\n",
    "            \"Error: {}\".format(e)\n",
    "            pass\n",
    "        \n",
    "        citation_str = []\n",
    "        for paper in papers:\n",
    "            if (type(paper.title).__name__ == \"NoneType\"):\n",
    "                p_title = \"Unknown\"\n",
    "            else:    \n",
    "                p_title = paper.title[0]\n",
    "            p_author = paper.first_author\n",
    "            p_year = str(paper.year)\n",
    "            \n",
    "            if (type(paper.pub).__name__ == \"NoneType\"):\n",
    "                p_pub = \", \"\n",
    "            else:\n",
    "                #print(paper.pub)\n",
    "                p_pub = \" : \" + paper.pub + \", \"\n",
    "            citation_str.append(p_title + \" by \" + p_authors + p_pub + p_year)\n",
    "        feature.addPublications(citation_str)\n",
    "        fout.write(str(json.dumps(feature.dump(), ensure_ascii=False, indent=4))+\"\\n\")\n",
    "fout.close()"
   ]
  },
  {
   "cell_type": "code",
   "execution_count": null,
   "metadata": {
    "collapsed": true
   },
   "outputs": [],
   "source": []
  }
 ],
 "metadata": {
  "kernelspec": {
   "display_name": "Python 3",
   "language": "python",
   "name": "python3"
  },
  "language_info": {
   "codemirror_mode": {
    "name": "ipython",
    "version": 3
   },
   "file_extension": ".py",
   "mimetype": "text/x-python",
   "name": "python",
   "nbconvert_exporter": "python",
   "pygments_lexer": "ipython3",
   "version": "3.5.3"
  }
 },
 "nbformat": 4,
 "nbformat_minor": 2
}
