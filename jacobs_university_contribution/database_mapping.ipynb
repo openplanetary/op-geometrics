{
 "cells": [
  {
   "cell_type": "code",
   "execution_count": 1,
   "metadata": {
    "collapsed": true
   },
   "outputs": [],
   "source": [
    "from bs4 import BeautifulSoup\n",
    "from feature_class import Feature\n",
    "import requests\n",
    "import re\n",
    "import ogr\n",
    "import json\n",
    "import csv\n",
    "import io\n",
    "import sys"
   ]
  },
  {
   "cell_type": "code",
   "execution_count": 2,
   "metadata": {
    "collapsed": true
   },
   "outputs": [],
   "source": [
    "# extracts the information about feature coordinates\n",
    "# enclosed in brackets right after the first instance of a regex is found\n",
    "# please note, that search finishes when such an instance is discovered\n",
    "def getFeatureGeomCoordinates(searchPattern, data):\n",
    "    #text.group() - found pattern    \n",
    "    #text.start() - pointer before the pattern\n",
    "    #text.end() - pointer after the pattern\n",
    "    text=re.search(searchPattern, data.text)\n",
    "    try:\n",
    "        #extract the data after pattern and search for closing bracket\n",
    "        new_data = data.text[text.end():]\n",
    "        coord_end = re.search('\\'', new_data)\n",
    "        #compose a string with found pattern and coordinates in brackets\n",
    "        geomStr = text.group() + new_data[:coord_end.start()]\n",
    "    except AttributeError:\n",
    "        print (searchPattern + ' pattern is not found!!')\n",
    "        geomStr = 'NONE'\n",
    "    return geomStr"
   ]
  },
  {
   "cell_type": "code",
   "execution_count": 3,
   "metadata": {
    "collapsed": true
   },
   "outputs": [],
   "source": [
    "#url path for retriving data for each feature\n",
    "#the name of the feature should be appended\n",
    "url = \"https://planetarynames.wr.usgs.gov/Feature/\"\n",
    "ogr.UseExceptions()  # Enable errors\n",
    "file_csv = 'Mars_short.csv'"
   ]
  },
  {
   "cell_type": "code",
   "execution_count": 4,
   "metadata": {},
   "outputs": [
    {
     "name": "stdout",
     "output_type": "stream",
     "text": [
      "Abalos Colles\n",
      "Abalos Mensa\n",
      "Abalos Scopuli\n",
      "Abalos Undae\n",
      "Aban\n",
      "Abus Vallis\n",
      "Achar\n"
     ]
    }
   ],
   "source": [
    "# no headers should be present in a csv file\n",
    "# the first two values must be featureID and feature_name\n",
    "# JSON file is written with utf8 due to unicode standard of publications\n",
    "with open(file_csv, mode='r') as fin, io.open('features.json', 'w', encoding='utf-8') as fout:\n",
    "    reader = csv.reader(fin, delimiter=',')\n",
    "    for rows in reader:\n",
    "        if (len(rows) > 1):\n",
    "            featId = rows[0]\n",
    "            featName = rows[1].strip(\"[]\")\n",
    "            furl = url + featId\n",
    "            #print(furl)\n",
    "            print(featName)\n",
    "            try:\n",
    "                req = requests.get(furl)\n",
    "            except requests.exceptions.RequestException as e:\n",
    "                \"Error: {}\".format(e)\n",
    "                pass\n",
    "            \n",
    "            #html data\n",
    "            data = BeautifulSoup(req.text, \"lxml\")\n",
    "            \n",
    "            #get the html-snippet with feature coordinates\n",
    "            #regex: MULTI|POLYGON|LINESTRING searches for any of the keywords\n",
    "            #in case MULTILINESTRING or MULTIPOLYGON the keyword MULTI is triggered \n",
    "            geomStr = getFeatureGeomCoordinates('MULTI|POLYGON|LINESTRING', data)\n",
    "            #if no entry is found - search for POINT feature\n",
    "            #in the current html version POINT was always preset as the center of a feature \n",
    "            #thus another separate search was needed\n",
    "            if (geomStr == 'NONE'):\n",
    "                #the first instance of POINT coordinates is retrieved\n",
    "                geomStr = getFeatureGeomCoordinates('POINT', data)  \n",
    "            try:\n",
    "                geomOGR = ogr.CreateGeometryFromWkt(geomStr)\n",
    "            except RuntimeError as e:\n",
    "                print(e)\n",
    "                pass\n",
    "            \n",
    "            #search for publications with html tree \n",
    "            #in the given html th tag contained td child td with publication name \n",
    "            #res = data.find(\"th\", text=\"Reference\").find_next_sibling(\"td\").text\n",
    "            \n",
    "            nFeat = Feature(featName, featId, geomStr)\n",
    "            # write feature to a gazetteer represented by a JSON file\n",
    "            #json.dump(nFeat.dump(), fout, ensure_ascii=False, indent=4)\n",
    "            fout.write(str(json.dumps(nFeat.dump(), ensure_ascii=False))+\"\\n\")\n",
    "fout.close()"
   ]
  },
  {
   "cell_type": "code",
   "execution_count": null,
   "metadata": {
    "collapsed": true
   },
   "outputs": [],
   "source": []
  }
 ],
 "metadata": {
  "kernelspec": {
   "display_name": "Python 3",
   "language": "python",
   "name": "python3"
  },
  "language_info": {
   "codemirror_mode": {
    "name": "ipython",
    "version": 3
   },
   "file_extension": ".py",
   "mimetype": "text/x-python",
   "name": "python",
   "nbconvert_exporter": "python",
   "pygments_lexer": "ipython3",
   "version": "3.5.3"
  }
 },
 "nbformat": 4,
 "nbformat_minor": 2
}
