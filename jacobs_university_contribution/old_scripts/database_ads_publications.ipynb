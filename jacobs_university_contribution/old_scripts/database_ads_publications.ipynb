{
 "cells": [
  {
   "cell_type": "code",
   "execution_count": 3,
   "metadata": {},
   "outputs": [],
   "source": [
    "import ads\n",
    "import json\n",
    "import requests\n",
    "import re\n",
    "import io\n",
    "import pandas as pd\n",
    "import sys"
   ]
  },
  {
   "cell_type": "code",
   "execution_count": 4,
   "metadata": {
    "collapsed": true
   },
   "outputs": [],
   "source": [
    "sys.path.insert(0, '../')\n",
    "from feature_class import Feature\n",
    "from paper_class import Paper"
   ]
  },
  {
   "cell_type": "code",
   "execution_count": 2,
   "metadata": {
    "collapsed": true
   },
   "outputs": [],
   "source": [
    "# routine to read information from json file\n",
    "# creates a Feature instance with extracted data\n",
    "def feature_extract(obj):\n",
    "        if '__type__' in obj and obj['__type__'] == 'Feature':\n",
    "            return Feature(obj['name'], obj['id'], obj['polygon_coordinates'], obj['publications'])\n",
    "        return Feature(\"None\", 0, \"None\", \"None\")"
   ]
  },
  {
   "cell_type": "code",
   "execution_count": 3,
   "metadata": {
    "collapsed": true
   },
   "outputs": [],
   "source": [
    "# routine to parse json file and fetch definition of each feature\n",
    "def parse_json_stream(text):\n",
    "    list_idx = [m.start() for m in re.finditer('}\\n', text)]\n",
    "    list_objs = []\n",
    "    last_index = 0\n",
    "    for index in list_idx:\n",
    "        new_feature = json.loads(text[last_index:index+2], object_hook=feature_extract)\n",
    "        if (new_feature.name == \"None\"):\n",
    "            break\n",
    "        list_objs += [new_feature]\n",
    "        last_index = index+2\n",
    "    return list_objs"
   ]
  },
  {
   "cell_type": "code",
   "execution_count": 4,
   "metadata": {
    "collapsed": true
   },
   "outputs": [],
   "source": [
    "json_name = \"features.json\"\n",
    "features = []"
   ]
  },
  {
   "cell_type": "code",
   "execution_count": 5,
   "metadata": {
    "collapsed": true
   },
   "outputs": [],
   "source": [
    "with open(json_name) as fin:\n",
    "    features = parse_json_stream(fin.read())"
   ]
  },
  {
   "cell_type": "code",
   "execution_count": 6,
   "metadata": {},
   "outputs": [
    {
     "name": "stdout",
     "output_type": "stream",
     "text": [
      "Abalos Colles\n",
      "Abalos Mensa\n",
      "Abalos Scopuli\n",
      "Abalos Undae\n",
      "Aban\n",
      "Abus Vallis\n",
      "Achar\n"
     ]
    }
   ],
   "source": [
    "# write a json file with extended list of publications for each feature\n",
    "# publications are requested from ADS API\n",
    "# list of features is stored in features variable\n",
    "with io.open('features_extended.json', 'w', encoding='utf-8') as fout:\n",
    "    for feature in features:\n",
    "        print(feature.name)\n",
    "        # request ADS API for publications based on feature name\n",
    "        # store objects of type Article\n",
    "        papers = []\n",
    "        try:\n",
    "            papers = list(ads.SearchQuery(q=feature.name, fl=['title', 'author', 'year', 'pub', 'bibcode']))\n",
    "        except (ads.exceptions.APIResponseError, ads.exceptions.SolrResponseParseError) as e:\n",
    "            \"Error: {}\".format(e)\n",
    "            continue\n",
    "        \n",
    "        citation_str = []\n",
    "        # extract several fields from each publication\n",
    "        # whole list of fields can be found in https://github.com/adsabs/adsabs-dev-api/blob/master/search.md#fields\n",
    "        for paper in papers:\n",
    "            p = Paper(paper.title[0], paper.author, paper.year, paper.pub, paper.bibcode)\n",
    "            citation_str.append(p)\n",
    "        # extend feature's list of publications \n",
    "        feature.addPublications(citation_str)\n",
    "        #write extended feature info to a new json file\n",
    "        fout.write(str(json.dumps(feature.dump(), ensure_ascii=False, indent=4))+\"\\n\")\n",
    "fout.close()"
   ]
  },
  {
   "cell_type": "code",
   "execution_count": 7,
   "metadata": {
    "collapsed": true
   },
   "outputs": [],
   "source": [
    "pd.set_option('display.max_colwidth', -1)\n",
    "df = pd.DataFrame([feature.to_dict() for feature in features])"
   ]
  },
  {
   "cell_type": "code",
   "execution_count": 8,
   "metadata": {
    "collapsed": true
   },
   "outputs": [],
   "source": [
    "#print(df[\"publications\"][0])"
   ]
  },
  {
   "cell_type": "code",
   "execution_count": 3,
   "metadata": {
    "collapsed": true
   },
   "outputs": [],
   "source": [
    "test = list(ads.SearchQuery(q=\"Ajon\", fl=['title', 'author', 'year', 'pub', 'bibcode']))"
   ]
  },
  {
   "cell_type": "code",
   "execution_count": 5,
   "metadata": {},
   "outputs": [
    {
     "name": "stdout",
     "output_type": "stream",
     "text": [
      "Theoretical Treatment of Spectrophotometric Tyrosine Titration of Two β-Lactamases of Class A\n",
      "['Miteva, M.', 'Shosheva, Al.', 'Sose, Al.', 'Makinen, M.', 'Atanasov, B.']\n",
      "2001\n",
      "Comptes Rendus de l'Academie Bulgare des Sciences\n",
      "2001CRABS..54d..93M\n",
      "27-DAY Varations in the IMF Components and the Cosmic Ray Anisotropies\n",
      "['Tolba, M. F.', 'Pomerantz, M. A.', 'Duggal, S. P.', 'Owens, A. J.']\n",
      "1981\n",
      "International Cosmic Ray Conference\n",
      "1981ICRC....4...52T\n",
      "Instructions for Authors Contributing to WGN\n",
      "['Arlt, R.']\n",
      "2002\n",
      "WGN, Journal of the International Meteor Organization\n",
      "2002JIMO...30...83A\n",
      "The Aurora - 1983\n",
      "['Livesey, R. J.']\n",
      "1985\n",
      "Journal of the British Astronomical Association\n",
      "1985JBAA...95..100L\n",
      "Domain wall motion influence on the magnetoimpedance effect\n",
      "['Gutiérrez, J.', 'Atkinson, D.', 'Squire, P. T.', 'Barandiarán, J. M.']\n",
      "1999\n",
      "Journal of Magnetism and Magnetic Materials\n",
      "1999JMMM..196..169G\n",
      "Nonlinear excess conductivity in superconducting aluminum films above the transition temperature\n",
      "['Kajimura, K.', 'Mikoshiba, N.']\n",
      "1970\n",
      "Solid State Communications\n",
      "1970SSCom...8.1617K\n",
      "Nightfall: Deepsky Observing Section\n",
      "['Slotegraaf, A.']\n",
      "1993\n",
      "Monthly Notes of the Astronomical Society of South Africa\n",
      "1993MNSSA..52..151S\n",
      "Standardized noise annoyance scales in Chinese, Korean and Vietnamese\n",
      "['Yano, Takashi', 'Ma, Hui']\n",
      "2004\n",
      "Journal of Sound Vibration\n",
      "2004JSV...277..583Y\n",
      "Preparation and characterization of members of the system La <SUB>2- x</SUB>A<SUB>1+ x</SUB>Cu <SUB>2</SUB>O <SUB>6± y</SUB> where A = Ca,Sr\n",
      "['Doverspike, K.', 'Liu, J. -H.', 'Dwight, K.', 'Wold, A.']\n",
      "1989\n",
      "Journal of Solid State Chemistry France\n",
      "1989JSSCh..82...30D\n",
      "Lattice Hamiltonian in physical gauges\n",
      "['Duncan, Anthony']\n",
      "1988\n",
      "Physical Review D\n",
      "1988PhRvD..37..563D\n",
      "Hole burning observation in spontaneous emission spectra from 1.3 μm InGaAsP/InP laser by using external light excitations\n",
      "['Liang-Hui, Chen', 'Mattos, J. C. V.', 'Patel, N. B.', 'Prince, F. C.', 'Campos, A. C.']\n",
      "1984\n",
      "Solid State Communications\n",
      "1984SSCom..52..103L\n",
      "Volume dependence of the Raman frequencies of GeSi alloys\n",
      "['Renucci, J. B.', 'Renucci, M. A.', 'Cardona, M.']\n",
      "1971\n",
      "Solid State Communications\n",
      "1971SSCom...9.1651R\n",
      "Integrating sphere theory\n",
      "['Finkel, Mitchell W.']\n",
      "1970\n",
      "Optics Communications\n",
      "1970OptCo...2...25F\n",
      "A reference model of the solar photosphere and low chromosphere\n",
      "['Heintze, J. R. W.', 'Hubenet, H.', 'de Jager, C.']\n",
      "1964\n",
      "Bulletin of the Astronomical Institutes of the Netherlands\n",
      "1964BAN....17..442H\n",
      "Gesellschaft für Erdkunde zu Berlin\n",
      "['O. B.']\n",
      "1927\n",
      "Naturwissenschaften\n",
      "1927NW.....15..343O\n",
      "S Herculis\n",
      "None\n",
      "1934\n",
      "Memoirs of the British Astronomical Association\n",
      "1934MmBAA..31..250.\n",
      "Light Echoes: Novae\n",
      "['Schaefer, Bradley E.']\n",
      "1988\n",
      "The Astrophysical Journal\n",
      "1988ApJ...327..347S\n",
      "Viscosity of Dense Matter\n",
      "['Itoh, Naoki', 'Kohyama, Yasuharu', 'Tekeuchi, Hideo']\n",
      "1987\n",
      "The Astrophysical Journal\n",
      "1987ApJ...317..733I\n",
      "Photometry and polarimetry during flares of comet Schwassmann-Wachmann I\n",
      "['Kiselev, N. N.', 'Chernova, G. P.']\n",
      "1979\n",
      "Soviet Astronomy Letters\n",
      "1979SvAL....5..156K\n"
     ]
    },
    {
     "ename": "TypeError",
     "evalue": "'NoneType' object is not subscriptable",
     "output_type": "error",
     "traceback": [
      "\u001b[0;31m---------------------------------------------------------------------------\u001b[0m",
      "\u001b[0;31mTypeError\u001b[0m                                 Traceback (most recent call last)",
      "\u001b[0;32m<ipython-input-5-2bc1d7be6085>\u001b[0m in \u001b[0;36m<module>\u001b[0;34m()\u001b[0m\n\u001b[1;32m      1\u001b[0m \u001b[0;32mfor\u001b[0m \u001b[0mt\u001b[0m \u001b[0;32min\u001b[0m \u001b[0mtest\u001b[0m\u001b[0;34m:\u001b[0m\u001b[0;34m\u001b[0m\u001b[0m\n\u001b[0;32m----> 2\u001b[0;31m     \u001b[0mprint\u001b[0m\u001b[0;34m(\u001b[0m\u001b[0mt\u001b[0m\u001b[0;34m.\u001b[0m\u001b[0mtitle\u001b[0m\u001b[0;34m[\u001b[0m\u001b[0;36m0\u001b[0m\u001b[0;34m]\u001b[0m\u001b[0;34m)\u001b[0m\u001b[0;34m\u001b[0m\u001b[0m\n\u001b[0m\u001b[1;32m      3\u001b[0m     \u001b[0mprint\u001b[0m\u001b[0;34m(\u001b[0m\u001b[0mt\u001b[0m\u001b[0;34m.\u001b[0m\u001b[0mauthor\u001b[0m\u001b[0;34m)\u001b[0m\u001b[0;34m\u001b[0m\u001b[0m\n\u001b[1;32m      4\u001b[0m     \u001b[0mprint\u001b[0m\u001b[0;34m(\u001b[0m\u001b[0mt\u001b[0m\u001b[0;34m.\u001b[0m\u001b[0myear\u001b[0m\u001b[0;34m)\u001b[0m\u001b[0;34m\u001b[0m\u001b[0m\n\u001b[1;32m      5\u001b[0m     \u001b[0mprint\u001b[0m\u001b[0;34m(\u001b[0m\u001b[0mt\u001b[0m\u001b[0;34m.\u001b[0m\u001b[0mpub\u001b[0m\u001b[0;34m)\u001b[0m\u001b[0;34m\u001b[0m\u001b[0m\n",
      "\u001b[0;31mTypeError\u001b[0m: 'NoneType' object is not subscriptable"
     ]
    }
   ],
   "source": [
    "for t in test:\n",
    "    print(t.title[0])\n",
    "    print(t.author)\n",
    "    print(t.year)\n",
    "    print(t.pub)\n",
    "    print(t.bibcode)"
   ]
  },
  {
   "cell_type": "code",
   "execution_count": null,
   "metadata": {
    "collapsed": true
   },
   "outputs": [],
   "source": []
  }
 ],
 "metadata": {
  "kernelspec": {
   "display_name": "Python 3",
   "language": "python",
   "name": "python3"
  },
  "language_info": {
   "codemirror_mode": {
    "name": "ipython",
    "version": 3
   },
   "file_extension": ".py",
   "mimetype": "text/x-python",
   "name": "python",
   "nbconvert_exporter": "python",
   "pygments_lexer": "ipython3",
   "version": "3.5.3"
  }
 },
 "nbformat": 4,
 "nbformat_minor": 2
}
