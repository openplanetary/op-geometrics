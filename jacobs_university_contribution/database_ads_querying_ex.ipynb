{
 "cells": [
  {
   "cell_type": "code",
   "execution_count": 42,
   "metadata": {
    "collapsed": true
   },
   "outputs": [],
   "source": [
    "import subprocess as sub\n",
    "import sys\n",
    "import ads\n",
    "import pandas as pd"
   ]
  },
  {
   "cell_type": "code",
   "execution_count": 43,
   "metadata": {
    "collapsed": true
   },
   "outputs": [],
   "source": [
    "# To create a database with features and their topological structure\n",
    "# One needs to create a csv file with \n",
    "# https://planetarynames.wr.usgs.gov/nomenclature/AdvancedSearch\n",
    "# and pass it to the database_creation script\n",
    "# IMPORTANT: feature ID and feature name should be present in csv file"
   ]
  },
  {
   "cell_type": "code",
   "execution_count": 44,
   "metadata": {},
   "outputs": [
    {
     "name": "stderr",
     "output_type": "stream",
     "text": [
      "Child returned 0\n"
     ]
    }
   ],
   "source": [
    "script_name = \"database_merged.py\"\n",
    "csv_file_name = \"Mars_short.csv\"\n",
    "\n",
    "try:\n",
    "    ret = sub.call([\"python\", script_name, csv_file_name], shell = True)\n",
    "    if (ret < 0):\n",
    "        print(\"Child process was terminated by signal\", -ret, file=sys.stderr)\n",
    "    else:\n",
    "        print(\"Child returned\", ret, file=sys.stderr)\n",
    "except OSError as e:\n",
    "    print(\"Execution failed: \", e, file=sys.stderr)"
   ]
  },
  {
   "cell_type": "code",
   "execution_count": 45,
   "metadata": {
    "collapsed": true
   },
   "outputs": [],
   "source": [
    "# now database is built and we want to provide speific queries to ADS\n",
    "authors = [\"Comer,R.P.\", \"Solomon,S.C.\", \"Head,J.W.\"]\n",
    "toponym = [\"Mons Olympus\"]\n",
    "years = range(1978, 2003)\n",
    "query_list = [\"\", \"\", \"\"]\n",
    "\n",
    "if (toponym):\n",
    "    for idx in range(len(toponym) - 1):\n",
    "        query_list[0] += toponym[idx] + \" OR \"\n",
    "    query_list[0] += toponym[-1]\n",
    "\n",
    "if (authors):\n",
    "    for idx in range(len(authors) - 1):\n",
    "        query_list[1] += \"author:\" + authors[idx] + \" OR \"\n",
    "    query_list[1] += \"author:\" + authors[-1]\n",
    "        \n",
    "if (years):\n",
    "    query_list[2] = \"year:[\" + str(years.start) + \" TO \" + str(years.stop) + \"]\" \n",
    "\n",
    "query = ' AND '.join(filter(None, query_list))        "
   ]
  },
  {
   "cell_type": "code",
   "execution_count": 46,
   "metadata": {},
   "outputs": [
    {
     "name": "stdout",
     "output_type": "stream",
     "text": [
      "Mons Olympus AND author:Comer,R.P. OR author:Solomon,S.C. OR author:Head,J.W. AND year:[1978 TO 2003]\n"
     ]
    }
   ],
   "source": [
    "print(query)\n",
    "example_results = []\n",
    "try:\n",
    "    example_results = list(ads.SearchQuery(q=query, fl=['title', 'author', 'year', 'pub', 'bibcode']))\n",
    "except (ads.exceptions.APIResponseError, ads.exceptions.SolrResponseParseError) as e:\n",
    "    \"Error: {}\".format(e)"
   ]
  },
  {
   "cell_type": "code",
   "execution_count": 48,
   "metadata": {},
   "outputs": [],
   "source": [
    "# representing the results in a table\n",
    "pd.set_option('display.max_colwidth', -1)\n",
    "df = pd.DataFrame(example_results)"
   ]
  },
  {
   "cell_type": "code",
   "execution_count": 49,
   "metadata": {},
   "outputs": [
    {
     "data": {
      "text/html": [
       "<div>\n",
       "<style>\n",
       "    .dataframe thead tr:only-child th {\n",
       "        text-align: right;\n",
       "    }\n",
       "\n",
       "    .dataframe thead th {\n",
       "        text-align: left;\n",
       "    }\n",
       "\n",
       "    .dataframe tbody tr th {\n",
       "        vertical-align: top;\n",
       "    }\n",
       "</style>\n",
       "<table border=\"1\" class=\"dataframe\">\n",
       "  <thead>\n",
       "    <tr style=\"text-align: right;\">\n",
       "      <th></th>\n",
       "      <th>0</th>\n",
       "    </tr>\n",
       "  </thead>\n",
       "  <tbody>\n",
       "    <tr>\n",
       "      <th>0</th>\n",
       "      <td>&lt;Unknown author et al. 1985, 1985RvGeo..23...61C&gt;</td>\n",
       "    </tr>\n",
       "    <tr>\n",
       "      <th>1</th>\n",
       "      <td>&lt;Unknown author et al. 1981, 1981LPI....12..166C&gt;</td>\n",
       "    </tr>\n",
       "    <tr>\n",
       "      <th>2</th>\n",
       "      <td>&lt;Unknown author et al. 1981, 1981LPICo.441..244S&gt;</td>\n",
       "    </tr>\n",
       "    <tr>\n",
       "      <th>3</th>\n",
       "      <td>&lt;Unknown author et al. 1980, 1980LPI....11..171C&gt;</td>\n",
       "    </tr>\n",
       "  </tbody>\n",
       "</table>\n",
       "</div>"
      ],
      "text/plain": [
       "                                                   0\n",
       "0  <Unknown author et al. 1985, 1985RvGeo..23...61C>\n",
       "1  <Unknown author et al. 1981, 1981LPI....12..166C>\n",
       "2  <Unknown author et al. 1981, 1981LPICo.441..244S>\n",
       "3  <Unknown author et al. 1980, 1980LPI....11..171C>"
      ]
     },
     "execution_count": 49,
     "metadata": {},
     "output_type": "execute_result"
    }
   ],
   "source": [
    "df"
   ]
  },
  {
   "cell_type": "code",
   "execution_count": null,
   "metadata": {
    "collapsed": true
   },
   "outputs": [],
   "source": []
  }
 ],
 "metadata": {
  "kernelspec": {
   "display_name": "Python 3",
   "language": "python",
   "name": "python3"
  },
  "language_info": {
   "codemirror_mode": {
    "name": "ipython",
    "version": 3
   },
   "file_extension": ".py",
   "mimetype": "text/x-python",
   "name": "python",
   "nbconvert_exporter": "python",
   "pygments_lexer": "ipython3",
   "version": "3.5.3"
  }
 },
 "nbformat": 4,
 "nbformat_minor": 2
}
