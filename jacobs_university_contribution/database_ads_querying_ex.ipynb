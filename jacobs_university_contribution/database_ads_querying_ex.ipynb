{
 "cells": [
  {
   "cell_type": "code",
   "execution_count": 22,
   "metadata": {},
   "outputs": [
    {
     "name": "stdout",
     "output_type": "stream",
     "text": [
      "Populating the interactive namespace from numpy and matplotlib\n"
     ]
    }
   ],
   "source": [
    "import subprocess as sub\n",
    "import sys\n",
    "import ads\n",
    "import re\n",
    "import json\n",
    "import pandas as pd\n",
    "import ogr\n",
    "from matplotlib import pylab\n",
    "from paper_class import Paper\n",
    "from feature_class import Feature\n",
    "%pylab inline"
   ]
  },
  {
   "cell_type": "code",
   "execution_count": 23,
   "metadata": {
    "collapsed": true
   },
   "outputs": [],
   "source": [
    "# routine to read information from json file\n",
    "# creates a Feature instance with extracted data\n",
    "def feature_extract(obj):\n",
    "    if '__type__' in obj and obj['__type__'] == 'Feature':\n",
    "        return Feature(obj['name'], obj['id'], obj['polygon_coordinates'], obj['publications'])\n",
    "    return Feature(\"None\", 0, \"None\", \"None\")"
   ]
  },
  {
   "cell_type": "code",
   "execution_count": 24,
   "metadata": {
    "collapsed": true
   },
   "outputs": [],
   "source": [
    "# routine to parse json file and fetch definition of each feature\n",
    "def parse_json_stream(text):\n",
    "    list_idx = [m.start() for m in re.finditer('}\\n', text)]\n",
    "    list_objs = []\n",
    "    last_index = 0\n",
    "    for index in list_idx:\n",
    "        new_feature = json.loads(text[last_index:index+2], object_hook=feature_extract)\n",
    "        if (new_feature.name == \"None\"):\n",
    "            break\n",
    "        list_objs += [new_feature]\n",
    "        last_index = index+2\n",
    "    return list_objs"
   ]
  },
  {
   "cell_type": "code",
   "execution_count": 25,
   "metadata": {
    "collapsed": true
   },
   "outputs": [],
   "source": [
    "# code is taken from jupyter notebook \n",
    "# https://github.com/epn-vespa/vespamap17-hackathon/blob/master/vespa-mapping-jupyter-samp/SendName_to_IAUnomenclature_findPolygon_hacky.ipynb\n",
    "def draw_feature_contour(feature):\n",
    "    geomOGR = ogr.CreateGeometryFromWkt(feature.pcoord)\n",
    "    \n",
    "    figsize(6,6)\n",
    "    \n",
    "    coords = json.loads(geomOGR.ExportToJson())['coordinates'][0]\n",
    "    x = [i for i,j in coords[0]]\n",
    "    y = [j for i,j in coords[0]]\n",
    "\n",
    "    plot(x, y, 'b')\n",
    "    pylab.xlabel('Longitude')\n",
    "    pylab.ylabel('Latitude')\n",
    "    pylab.title('Feature : ' + feature.name)\n",
    "    grid()"
   ]
  },
  {
   "cell_type": "code",
   "execution_count": 26,
   "metadata": {
    "collapsed": true
   },
   "outputs": [],
   "source": [
    "# To create a database with features and their topological structure\n",
    "# One needs to create a csv file with \n",
    "# https://planetarynames.wr.usgs.gov/nomenclature/AdvancedSearch\n",
    "# and pass it to the database_creation script\n",
    "# IMPORTANT: feature ID and feature name should be present in csv file"
   ]
  },
  {
   "cell_type": "code",
   "execution_count": 27,
   "metadata": {},
   "outputs": [],
   "source": [
    "script_name = \"database_merged.py\"\n",
    "csv_file_name = \"Mars_short.csv\"\n",
    "output_file_name = \"features.json\"\n",
    "try:\n",
    "    ret = sub.call(' '.join([\"python\", script_name, csv_file_name, output_file_name]), shell = True)\n",
    "    if (ret != 0):\n",
    "        print(\"Child returned\", ret, file=sys.stderr)\n",
    "except OSError as e:\n",
    "    print(\"Execution failed: \", e, file=sys.stderr)"
   ]
  },
  {
   "cell_type": "code",
   "execution_count": 43,
   "metadata": {
    "collapsed": true
   },
   "outputs": [],
   "source": [
    "# now database is built and we want to provide speific queries to ADS\n",
    "authors = [\"Tanaka, K. L.\", \"Kolb, E. J.\", \"Fortezzo, C.\"]\n",
    "toponym = \"Abalos Colles\"\n",
    "years = range(2003, 2008)\n",
    "query_list = [\"\", \"\", \"\"]\n",
    "\n",
    "if (toponym):\n",
    "    query_list[0] = toponym\n",
    "\n",
    "if (authors):\n",
    "    for idx in range(len(authors) - 1):\n",
    "        query_list[1] += \"author:\" + authors[idx] + \" OR \"\n",
    "    query_list[1] += \"author:\" + authors[-1]\n",
    "        \n",
    "if (years):\n",
    "    query_list[2] = \"year:[\" + str(years.start) + \" TO \" + str(years.stop) + \"]\" \n",
    "\n",
    "query = ' AND '.join(filter(None, query_list))"
   ]
  },
  {
   "cell_type": "code",
   "execution_count": 44,
   "metadata": {},
   "outputs": [
    {
     "name": "stdout",
     "output_type": "stream",
     "text": [
      "Abalos Colles AND author:Tanaka, K. L. OR author:Kolb, E. J. OR author:Fortezzo, C. AND year:[2003 TO 2008]\n"
     ]
    }
   ],
   "source": [
    "if (not query):\n",
    "    raise RuntimeError(\"Empty query is not allowed!\")\n",
    "print(query)"
   ]
  },
  {
   "cell_type": "code",
   "execution_count": 46,
   "metadata": {},
   "outputs": [],
   "source": [
    "#performing a query to ADS API\n",
    "example_results = []\n",
    "try:\n",
    "    example_results = list(ads.SearchQuery(q=query, fl=['title', 'author', 'year', 'pub', 'bibcode']))\n",
    "except (ads.exceptions.APIResponseError, ads.exceptions.SolrResponseParseError) as e:\n",
    "    \"Error: {}\".format(e)"
   ]
  },
  {
   "cell_type": "code",
   "execution_count": 47,
   "metadata": {
    "collapsed": true
   },
   "outputs": [],
   "source": [
    "# representing results with custom Paper class\n",
    "results_new = []\n",
    "for paper in example_results:\n",
    "    results_new.append(Paper(paper.title[0], paper.author, paper.year, paper.pub, paper.bibcode))"
   ]
  },
  {
   "cell_type": "code",
   "execution_count": 48,
   "metadata": {
    "collapsed": true
   },
   "outputs": [],
   "source": [
    "# dig the database for the requested toponym\n",
    "with open(output_file_name) as fin:\n",
    "    features = parse_json_stream(fin.read())"
   ]
  },
  {
   "cell_type": "code",
   "execution_count": 49,
   "metadata": {},
   "outputs": [
    {
     "name": "stdout",
     "output_type": "stream",
     "text": [
      "Abalos Colles is found in the database!\n"
     ]
    },
    {
     "data": {
      "image/png": "[encoded data removed]",
      "text/plain": [
       "<matplotlib.figure.Figure at 0x7ff4687406a0>"
      ]
     },
     "metadata": {},
     "output_type": "display_data"
    }
   ],
   "source": [
    "# if the entry exists - draw the toponym as a polygon\n",
    "for feature in features:\n",
    "    if (toponym == feature.name):\n",
    "        print(toponym + \" is found in the database!\")\n",
    "        draw_feature_contour(feature)\n",
    "        break"
   ]
  },
  {
   "cell_type": "code",
   "execution_count": 50,
   "metadata": {
    "collapsed": true
   },
   "outputs": [],
   "source": [
    "# create pandas table\n",
    "pd.set_option('display.max_colwidth', -1)\n",
    "df = pd.DataFrame([paper.to_dict() for paper in results_new])"
   ]
  },
  {
   "cell_type": "code",
   "execution_count": 52,
   "metadata": {},
   "outputs": [
    {
     "data": {
      "text/html": [
       "<div>\n",
       "<style>\n",
       "    .dataframe thead tr:only-child th {\n",
       "        text-align: right;\n",
       "    }\n",
       "\n",
       "    .dataframe thead th {\n",
       "        text-align: left;\n",
       "    }\n",
       "\n",
       "    .dataframe tbody tr th {\n",
       "        vertical-align: top;\n",
       "    }\n",
       "</style>\n",
       "<table border=\"1\" class=\"dataframe\">\n",
       "  <thead>\n",
       "    <tr style=\"text-align: right;\">\n",
       "      <th></th>\n",
       "      <th>authors</th>\n",
       "      <th>bibcode</th>\n",
       "      <th>publication</th>\n",
       "      <th>title</th>\n",
       "      <th>year</th>\n",
       "    </tr>\n",
       "  </thead>\n",
       "  <tbody>\n",
       "    <tr>\n",
       "      <th>0</th>\n",
       "      <td>[Tanaka, K. L., Kolb, E. J., Fortezzo, C.]</td>\n",
       "      <td>2007LPICo1353.3276T</td>\n",
       "      <td>Seventh International Conference on Mars</td>\n",
       "      <td>Recent Advances in the Stratigraphy of the Polar Regions of Mars</td>\n",
       "      <td>2007</td>\n",
       "    </tr>\n",
       "    <tr>\n",
       "      <th>1</th>\n",
       "      <td>[Tanaka, Kenneth L., Rodriguez, J. Alexis P., Skinner, James A., Bourke, Mary C., Fortezzo, Corey M., Herkenhoff, Kenneth E., Kolb, Eric J., Okubo, Chris H.]</td>\n",
       "      <td>2008Icar..196..318T</td>\n",
       "      <td>Icarus</td>\n",
       "      <td>North polar region of Mars: Advances in stratigraphy, structure, and erosional modification</td>\n",
       "      <td>2008</td>\n",
       "    </tr>\n",
       "    <tr>\n",
       "      <th>2</th>\n",
       "      <td>[Tanaka, K. L., Mullins, K. F., Skinner, J. A., Jr., Rodriguez, J. A. P., Fortezzo, C. M.]</td>\n",
       "      <td>2006LPI....37.2344T</td>\n",
       "      <td>37th Annual Lunar and Planetary Science Conference</td>\n",
       "      <td>Stratigraphy of North Polar Deposits on Mars: Major New Findings</td>\n",
       "      <td>2006</td>\n",
       "    </tr>\n",
       "    <tr>\n",
       "      <th>3</th>\n",
       "      <td>[Tanaka, K. L., Skinner, J. A., Hare, T. M., Joyal, T., Wenker, A.]</td>\n",
       "      <td>2003JGRE..108.8043T</td>\n",
       "      <td>Journal of Geophysical Research (Planets)</td>\n",
       "      <td>Resurfacing history of the northern plains of Mars based on geologic mapping of Mars Global Surveyor data</td>\n",
       "      <td>2003</td>\n",
       "    </tr>\n",
       "  </tbody>\n",
       "</table>\n",
       "</div>"
      ],
      "text/plain": [
       "                                                                                                                                                         authors  \\\n",
       "0  [Tanaka, K. L., Kolb, E. J., Fortezzo, C.]                                                                                                                      \n",
       "1  [Tanaka, Kenneth L., Rodriguez, J. Alexis P., Skinner, James A., Bourke, Mary C., Fortezzo, Corey M., Herkenhoff, Kenneth E., Kolb, Eric J., Okubo, Chris H.]   \n",
       "2  [Tanaka, K. L., Mullins, K. F., Skinner, J. A., Jr., Rodriguez, J. A. P., Fortezzo, C. M.]                                                                      \n",
       "3  [Tanaka, K. L., Skinner, J. A., Hare, T. M., Joyal, T., Wenker, A.]                                                                                             \n",
       "\n",
       "               bibcode                                         publication  \\\n",
       "0  2007LPICo1353.3276T  Seventh International Conference on Mars             \n",
       "1  2008Icar..196..318T  Icarus                                               \n",
       "2  2006LPI....37.2344T  37th Annual Lunar and Planetary Science Conference   \n",
       "3  2003JGRE..108.8043T  Journal of Geophysical Research (Planets)            \n",
       "\n",
       "                                                                                                       title  \\\n",
       "0  Recent Advances in the Stratigraphy of the Polar Regions of Mars                                            \n",
       "1  North polar region of Mars: Advances in stratigraphy, structure, and erosional modification                 \n",
       "2  Stratigraphy of North Polar Deposits on Mars: Major New Findings                                            \n",
       "3  Resurfacing history of the northern plains of Mars based on geologic mapping of Mars Global Surveyor data   \n",
       "\n",
       "   year  \n",
       "0  2007  \n",
       "1  2008  \n",
       "2  2006  \n",
       "3  2003  "
      ]
     },
     "execution_count": 52,
     "metadata": {},
     "output_type": "execute_result"
    }
   ],
   "source": [
    "df"
   ]
  },
  {
   "cell_type": "code",
   "execution_count": null,
   "metadata": {
    "collapsed": true
   },
   "outputs": [],
   "source": []
  }
 ],
 "metadata": {
  "kernelspec": {
   "display_name": "Python 3",
   "language": "python",
   "name": "python3"
  },
  "language_info": {
   "codemirror_mode": {
    "name": "ipython",
    "version": 3
   },
   "file_extension": ".py",
   "mimetype": "text/x-python",
   "name": "python",
   "nbconvert_exporter": "python",
   "pygments_lexer": "ipython3",
   "version": "3.5.3"
  }
 },
 "nbformat": 4,
 "nbformat_minor": 2
}
