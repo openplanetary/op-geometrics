{
 "cells": [
  {
   "cell_type": "code",
   "execution_count": null,
   "metadata": {
    "collapsed": true
   },
   "outputs": [],
   "source": [
    "# an encapsulation of data retrieved about a geographical feature\n",
    "# an element of a Gazetteer \n",
    "class Feature:\n",
    "    def __init__(self, fname, fid, fcoord, fpubl):\n",
    "        self.name = fname\n",
    "        self.id = fid\n",
    "        self.pcoord = fcoord\n",
    "        self.publ = []\n",
    "        self.publ.append(fpubl)\n",
    "        \n",
    "    # in case # publications for a feature > 1\n",
    "    def addPublications(self, nEntry):\n",
    "        (self.publ).extend(nEntry)\n",
    "    # writing routine to a json file\n",
    "    def dump(self):\n",
    "        return {'__type__': type(self).__name__, 'name': self.name,\n",
    "                               'id': self.id,\n",
    "                               'polygon_coordinates': self.pcoord,\n",
    "                               'publications': '; '.join(self.publ)}"
   ]
  },
  {
   "cell_type": "code",
   "execution_count": null,
   "metadata": {
    "collapsed": true
   },
   "outputs": [],
   "source": []
  }
 ],
 "metadata": {
  "kernelspec": {
   "display_name": "Python 3",
   "language": "python",
   "name": "python3"
  },
  "language_info": {
   "codemirror_mode": {
    "name": "ipython",
    "version": 3
   },
   "file_extension": ".py",
   "mimetype": "text/x-python",
   "name": "python",
   "nbconvert_exporter": "python",
   "pygments_lexer": "ipython3",
   "version": "3.5.3"
  }
 },
 "nbformat": 4,
 "nbformat_minor": 2
}
