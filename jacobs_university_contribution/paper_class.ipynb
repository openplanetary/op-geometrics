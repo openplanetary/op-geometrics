{
 "cells": [
  {
   "cell_type": "code",
   "execution_count": 4,
   "metadata": {
    "collapsed": true
   },
   "outputs": [],
   "source": [
    "import json"
   ]
  },
  {
   "cell_type": "code",
   "execution_count": 1,
   "metadata": {
    "collapsed": true
   },
   "outputs": [],
   "source": [
    "# an encapsulation of Article class from ADS API\n",
    "\n",
    "class Paper :\n",
    "    def __init__(self, p_title, p_authors, p_year, p_pub, p_bibcode):\n",
    "        self.title = p_title\n",
    "        self.authors = p_authors\n",
    "        self.year = p_year\n",
    "        self.publ = p_pub\n",
    "        self.bibcode = p_bibcode\n",
    "    \n",
    "    def __str__(self):\n",
    "        if (type(self.title).__name__ == \"NoneType\"):\n",
    "            p_title = \"Unknown title\"\n",
    "        else:    \n",
    "            p_title = self.title\n",
    "                \n",
    "        p_authors = ', '.join(self.authors)\n",
    "        p_year = str(self.year)\n",
    "            \n",
    "        if (type(self.publ).__name__ == \"NoneType\"):\n",
    "            p_pub = \", \"\n",
    "        else:\n",
    "            p_pub = \" : \" + self.publ + \", \"\n",
    "            \n",
    "        return ''.join([p_title,p_authors,p_year,p_pub])\n",
    "    \n",
    "    # writing routine to a json file\n",
    "    def dump(self):\n",
    "        return {'__type__': type(self).__name__, 'title': self.title,\n",
    "                               'authors': self.authors,\n",
    "                               'year' : self.year,\n",
    "                               'publication': self.publ,\n",
    "                               'bibcode': self.bibcode }\n",
    "    def toJSON(self):\n",
    "        return json.dumps(self.dump(), ensure_ascii=False, indent=4)\n",
    "    \n",
    "    def to_dict(self):\n",
    "         return {\n",
    "            'title' : self.title,\n",
    "            'authors' : self.authors,\n",
    "            'year' : self.year,\n",
    "            'publication' : self.publ,\n",
    "            'bibcode' : self.bibcode\n",
    "        }"
   ]
  },
  {
   "cell_type": "code",
   "execution_count": null,
   "metadata": {
    "collapsed": true
   },
   "outputs": [],
   "source": []
  }
 ],
 "metadata": {
  "kernelspec": {
   "display_name": "Python 3",
   "language": "python",
   "name": "python3"
  },
  "language_info": {
   "codemirror_mode": {
    "name": "ipython",
    "version": 3
   },
   "file_extension": ".py",
   "mimetype": "text/x-python",
   "name": "python",
   "nbconvert_exporter": "python",
   "pygments_lexer": "ipython3",
   "version": "3.5.3"
  }
 },
 "nbformat": 4,
 "nbformat_minor": 2
}
